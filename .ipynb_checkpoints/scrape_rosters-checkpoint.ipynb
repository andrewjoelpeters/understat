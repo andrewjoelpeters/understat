{
 "cells": [
  {
   "cell_type": "code",
   "execution_count": 151,
   "metadata": {},
   "outputs": [],
   "source": [
    "import requests\n",
    "from bs4 import BeautifulSoup\n",
    "import json\n",
    "import pandas as pd\n",
    "from tqdm import tqdm\n",
    "pd.set_option('display.max_rows', 500)\n",
    "pd.set_option('display.max_columns', 500)"
   ]
  },
  {
   "cell_type": "code",
   "execution_count": 4,
   "metadata": {},
   "outputs": [],
   "source": [
    "match = str(14600)"
   ]
  },
  {
   "cell_type": "code",
   "execution_count": 88,
   "metadata": {},
   "outputs": [],
   "source": [
    "fixtures_df = pd.DataFrame()\n",
    "for year in [2017, 2018, 2018, 2020]:\n",
    "    url = f'https://understat.com/league/EPL/{year}'\n",
    "    r = requests.get(url)\n",
    "    soup = BeautifulSoup(r.content, 'lxml')\n",
    "    scripts = soup.find_all('script')\n",
    "    strings = scripts[1].string\n",
    "    ind_start = strings.index(\"('\")+2\n",
    "    ind_end = strings.index(\"')\")\n",
    "    json_data = strings[ind_start:ind_end]\n",
    "    json_data = json_data.encode('utf8').decode('unicode_escape')\n",
    "    data = json.loads(json_data)\n",
    "    fixtures_df = fixtures_df.append(pd.DataFrame(data).sort_values('datetime'))"
   ]
  },
  {
   "cell_type": "code",
   "execution_count": 152,
   "metadata": {},
   "outputs": [
    {
     "name": "stderr",
     "output_type": "stream",
     "text": [
      "100%|██████████| 1391/1391 [12:05<00:00,  1.92it/s]\n"
     ]
    }
   ],
   "source": [
    "game_stats = pd.DataFrame()\n",
    "matches = fixtures_df[fixtures_df.isResult == True].id\n",
    "for match in tqdm(matches):\n",
    "    url = f'https://understat.com/match/{match}'\n",
    "    r = requests.get(url)\n",
    "    soup = BeautifulSoup(r.content, 'lxml')\n",
    "    scripts = soup.find_all('script')\n",
    "    strings = scripts[2].string\n",
    "    ind_start = strings.index(\"('\")+2\n",
    "    ind_end = strings.index(\"')\")\n",
    "    json_data = strings[ind_start:ind_end]\n",
    "    json_data = json_data.encode('utf8').decode('unicode_escape')\n",
    "    data = json.loads(json_data)\n",
    "    for team in ['h', 'a']:\n",
    "        game_stats_part = pd.DataFrame(data[team]).transpose()\n",
    "        game_stats = game_stats.append(game_stats_part)"
   ]
  },
  {
   "cell_type": "code",
   "execution_count": 153,
   "metadata": {},
   "outputs": [],
   "source": [
    "game_stats.to_pickle('game_stats_df.pkl')"
   ]
  },
  {
   "cell_type": "code",
   "execution_count": null,
   "metadata": {},
   "outputs": [],
   "source": []
  }
 ],
 "metadata": {
  "kernelspec": {
   "display_name": "Python 3",
   "language": "python",
   "name": "python3"
  },
  "language_info": {
   "codemirror_mode": {
    "name": "ipython",
    "version": 3
   },
   "file_extension": ".py",
   "mimetype": "text/x-python",
   "name": "python",
   "nbconvert_exporter": "python",
   "pygments_lexer": "ipython3",
   "version": "3.8.3"
  }
 },
 "nbformat": 4,
 "nbformat_minor": 4
}
