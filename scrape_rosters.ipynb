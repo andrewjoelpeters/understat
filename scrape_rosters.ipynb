{
 "cells": [
  {
   "cell_type": "code",
   "execution_count": 105,
   "metadata": {},
   "outputs": [],
   "source": [
    "import requests\n",
    "from bs4 import BeautifulSoup\n",
    "import json\n",
    "import pandas as pd\n",
    "from tqdm import tqdm\n",
    "import numpy as np\n",
    "pd.set_option('display.max_rows', 500)\n",
    "pd.set_option('display.max_columns', 500)"
   ]
  },
  {
   "cell_type": "code",
   "execution_count": 169,
   "metadata": {},
   "outputs": [],
   "source": [
    "fixtures_df = pd.DataFrame()\n",
    "for year in [2016, 2017, 2018, 2019, 2020]:\n",
    "    url = f'https://understat.com/league/EPL/{year}'\n",
    "    r = requests.get(url)\n",
    "    soup = BeautifulSoup(r.content, 'lxml')\n",
    "    scripts = soup.find_all('script')\n",
    "    strings = scripts[1].string\n",
    "    ind_start = strings.index(\"('\")+2\n",
    "    ind_end = strings.index(\"')\")\n",
    "    json_data = strings[ind_start:ind_end]\n",
    "    json_data = json_data.encode('utf8').decode('unicode_escape')\n",
    "    data = json.loads(json_data)\n",
    "    fixtures_df = fixtures_df.append(pd.DataFrame(data).sort_values('datetime'))"
   ]
  },
  {
   "cell_type": "code",
   "execution_count": 107,
   "metadata": {},
   "outputs": [
    {
     "name": "stderr",
     "output_type": "stream",
     "text": [
      "100%|██████████| 1805/1805 [15:31<00:00,  1.94it/s]\n"
     ]
    }
   ],
   "source": [
    "game_stats = pd.DataFrame()\n",
    "matches = fixtures_df[fixtures_df.isResult == True].id\n",
    "for match in tqdm(matches):\n",
    "    url = f'https://understat.com/match/{match}'\n",
    "    r = requests.get(url)\n",
    "    soup = BeautifulSoup(r.content, 'lxml')\n",
    "    scripts = soup.find_all('script')\n",
    "    strings = scripts[2].string\n",
    "    ind_start = strings.index(\"('\")+2\n",
    "    ind_end = strings.index(\"')\")\n",
    "    json_data = strings[ind_start:ind_end]\n",
    "    json_data = json_data.encode('utf8').decode('unicode_escape')\n",
    "    data = json.loads(json_data)\n",
    "    for team in ['h', 'a']:\n",
    "        game_stats_part = pd.DataFrame(data[team]).transpose()\n",
    "        game_stats_part['match_id'] = match\n",
    "        game_stats = game_stats.append(game_stats_part)"
   ]
  },
  {
   "cell_type": "code",
   "execution_count": 108,
   "metadata": {},
   "outputs": [],
   "source": [
    "game_stats.to_pickle('game_stats_df.pkl')"
   ]
  },
  {
   "cell_type": "code",
   "execution_count": 109,
   "metadata": {},
   "outputs": [],
   "source": [
    "game_stats = pd.read_pickle('game_stats_df.pkl')"
   ]
  },
  {
   "cell_type": "code",
   "execution_count": 110,
   "metadata": {},
   "outputs": [
    {
     "data": {
      "text/html": [
       "<div>\n",
       "<style scoped>\n",
       "    .dataframe tbody tr th:only-of-type {\n",
       "        vertical-align: middle;\n",
       "    }\n",
       "\n",
       "    .dataframe tbody tr th {\n",
       "        vertical-align: top;\n",
       "    }\n",
       "\n",
       "    .dataframe thead th {\n",
       "        text-align: right;\n",
       "    }\n",
       "</style>\n",
       "<table border=\"1\" class=\"dataframe\">\n",
       "  <thead>\n",
       "    <tr style=\"text-align: right;\">\n",
       "      <th></th>\n",
       "      <th>id</th>\n",
       "      <th>goals</th>\n",
       "      <th>own_goals</th>\n",
       "      <th>shots</th>\n",
       "      <th>xG</th>\n",
       "      <th>time</th>\n",
       "      <th>player_id</th>\n",
       "      <th>team_id</th>\n",
       "      <th>position</th>\n",
       "      <th>player</th>\n",
       "      <th>h_a</th>\n",
       "      <th>yellow_card</th>\n",
       "      <th>red_card</th>\n",
       "      <th>roster_in</th>\n",
       "      <th>roster_out</th>\n",
       "      <th>key_passes</th>\n",
       "      <th>assists</th>\n",
       "      <th>xA</th>\n",
       "      <th>xGChain</th>\n",
       "      <th>xGBuildup</th>\n",
       "      <th>positionOrder</th>\n",
       "      <th>match_id</th>\n",
       "    </tr>\n",
       "  </thead>\n",
       "  <tbody>\n",
       "    <tr>\n",
       "      <th>125031</th>\n",
       "      <td>125031</td>\n",
       "      <td>0</td>\n",
       "      <td>0</td>\n",
       "      <td>0</td>\n",
       "      <td>0</td>\n",
       "      <td>90</td>\n",
       "      <td>1697</td>\n",
       "      <td>91</td>\n",
       "      <td>GK</td>\n",
       "      <td>Eldin Jakupovic</td>\n",
       "      <td>h</td>\n",
       "      <td>0</td>\n",
       "      <td>0</td>\n",
       "      <td>0</td>\n",
       "      <td>0</td>\n",
       "      <td>0</td>\n",
       "      <td>0</td>\n",
       "      <td>0</td>\n",
       "      <td>0</td>\n",
       "      <td>0</td>\n",
       "      <td>1</td>\n",
       "      <td>461</td>\n",
       "    </tr>\n",
       "    <tr>\n",
       "      <th>125032</th>\n",
       "      <td>125032</td>\n",
       "      <td>0</td>\n",
       "      <td>0</td>\n",
       "      <td>0</td>\n",
       "      <td>0</td>\n",
       "      <td>90</td>\n",
       "      <td>1685</td>\n",
       "      <td>91</td>\n",
       "      <td>DR</td>\n",
       "      <td>Ahmed Elmohamady</td>\n",
       "      <td>h</td>\n",
       "      <td>0</td>\n",
       "      <td>0</td>\n",
       "      <td>0</td>\n",
       "      <td>0</td>\n",
       "      <td>1</td>\n",
       "      <td>0</td>\n",
       "      <td>0.021670209243893623</td>\n",
       "      <td>0.061049532145261765</td>\n",
       "      <td>0.03937932476401329</td>\n",
       "      <td>2</td>\n",
       "      <td>461</td>\n",
       "    </tr>\n",
       "    <tr>\n",
       "      <th>125033</th>\n",
       "      <td>125033</td>\n",
       "      <td>0</td>\n",
       "      <td>0</td>\n",
       "      <td>2</td>\n",
       "      <td>0.05041324719786644</td>\n",
       "      <td>90</td>\n",
       "      <td>1686</td>\n",
       "      <td>91</td>\n",
       "      <td>DC</td>\n",
       "      <td>Curtis Davies</td>\n",
       "      <td>h</td>\n",
       "      <td>1</td>\n",
       "      <td>0</td>\n",
       "      <td>0</td>\n",
       "      <td>0</td>\n",
       "      <td>0</td>\n",
       "      <td>0</td>\n",
       "      <td>0</td>\n",
       "      <td>0</td>\n",
       "      <td>0</td>\n",
       "      <td>3</td>\n",
       "      <td>461</td>\n",
       "    </tr>\n",
       "    <tr>\n",
       "      <th>125034</th>\n",
       "      <td>125034</td>\n",
       "      <td>0</td>\n",
       "      <td>0</td>\n",
       "      <td>0</td>\n",
       "      <td>0</td>\n",
       "      <td>90</td>\n",
       "      <td>1689</td>\n",
       "      <td>91</td>\n",
       "      <td>DC</td>\n",
       "      <td>Jake Livermore</td>\n",
       "      <td>h</td>\n",
       "      <td>0</td>\n",
       "      <td>0</td>\n",
       "      <td>0</td>\n",
       "      <td>0</td>\n",
       "      <td>0</td>\n",
       "      <td>0</td>\n",
       "      <td>0</td>\n",
       "      <td>0</td>\n",
       "      <td>0</td>\n",
       "      <td>3</td>\n",
       "      <td>461</td>\n",
       "    </tr>\n",
       "    <tr>\n",
       "      <th>125035</th>\n",
       "      <td>125035</td>\n",
       "      <td>0</td>\n",
       "      <td>0</td>\n",
       "      <td>0</td>\n",
       "      <td>0</td>\n",
       "      <td>90</td>\n",
       "      <td>1688</td>\n",
       "      <td>91</td>\n",
       "      <td>DL</td>\n",
       "      <td>Andrew Robertson</td>\n",
       "      <td>h</td>\n",
       "      <td>0</td>\n",
       "      <td>0</td>\n",
       "      <td>0</td>\n",
       "      <td>0</td>\n",
       "      <td>0</td>\n",
       "      <td>0</td>\n",
       "      <td>0</td>\n",
       "      <td>0.06231752410531044</td>\n",
       "      <td>0.06231752410531044</td>\n",
       "      <td>4</td>\n",
       "      <td>461</td>\n",
       "    </tr>\n",
       "    <tr>\n",
       "      <th>...</th>\n",
       "      <td>...</td>\n",
       "      <td>...</td>\n",
       "      <td>...</td>\n",
       "      <td>...</td>\n",
       "      <td>...</td>\n",
       "      <td>...</td>\n",
       "      <td>...</td>\n",
       "      <td>...</td>\n",
       "      <td>...</td>\n",
       "      <td>...</td>\n",
       "      <td>...</td>\n",
       "      <td>...</td>\n",
       "      <td>...</td>\n",
       "      <td>...</td>\n",
       "      <td>...</td>\n",
       "      <td>...</td>\n",
       "      <td>...</td>\n",
       "      <td>...</td>\n",
       "      <td>...</td>\n",
       "      <td>...</td>\n",
       "      <td>...</td>\n",
       "      <td>...</td>\n",
       "    </tr>\n",
       "    <tr>\n",
       "      <th>457323</th>\n",
       "      <td>457323</td>\n",
       "      <td>0</td>\n",
       "      <td>0</td>\n",
       "      <td>0</td>\n",
       "      <td>0</td>\n",
       "      <td>64</td>\n",
       "      <td>6424</td>\n",
       "      <td>81</td>\n",
       "      <td>ML</td>\n",
       "      <td>Ben Johnson</td>\n",
       "      <td>a</td>\n",
       "      <td>0</td>\n",
       "      <td>0</td>\n",
       "      <td>457326</td>\n",
       "      <td>0</td>\n",
       "      <td>0</td>\n",
       "      <td>0</td>\n",
       "      <td>0</td>\n",
       "      <td>0</td>\n",
       "      <td>0</td>\n",
       "      <td>10</td>\n",
       "      <td>14711</td>\n",
       "    </tr>\n",
       "    <tr>\n",
       "      <th>457324</th>\n",
       "      <td>457324</td>\n",
       "      <td>0</td>\n",
       "      <td>0</td>\n",
       "      <td>1</td>\n",
       "      <td>0.03431173786520958</td>\n",
       "      <td>90</td>\n",
       "      <td>531</td>\n",
       "      <td>81</td>\n",
       "      <td>FW</td>\n",
       "      <td>Michail Antonio</td>\n",
       "      <td>a</td>\n",
       "      <td>0</td>\n",
       "      <td>0</td>\n",
       "      <td>0</td>\n",
       "      <td>0</td>\n",
       "      <td>1</td>\n",
       "      <td>0</td>\n",
       "      <td>0.041240423917770386</td>\n",
       "      <td>0.07555215805768967</td>\n",
       "      <td>0</td>\n",
       "      <td>15</td>\n",
       "      <td>14711</td>\n",
       "    </tr>\n",
       "    <tr>\n",
       "      <th>457325</th>\n",
       "      <td>457325</td>\n",
       "      <td>0</td>\n",
       "      <td>0</td>\n",
       "      <td>2</td>\n",
       "      <td>0.09904623031616211</td>\n",
       "      <td>90</td>\n",
       "      <td>1776</td>\n",
       "      <td>81</td>\n",
       "      <td>FW</td>\n",
       "      <td>Jarrod Bowen</td>\n",
       "      <td>a</td>\n",
       "      <td>0</td>\n",
       "      <td>0</td>\n",
       "      <td>0</td>\n",
       "      <td>0</td>\n",
       "      <td>2</td>\n",
       "      <td>0</td>\n",
       "      <td>0.19072416424751282</td>\n",
       "      <td>0.2897703945636749</td>\n",
       "      <td>0</td>\n",
       "      <td>15</td>\n",
       "      <td>14711</td>\n",
       "    </tr>\n",
       "    <tr>\n",
       "      <th>457327</th>\n",
       "      <td>457327</td>\n",
       "      <td>0</td>\n",
       "      <td>0</td>\n",
       "      <td>1</td>\n",
       "      <td>0.05147441849112511</td>\n",
       "      <td>26</td>\n",
       "      <td>535</td>\n",
       "      <td>81</td>\n",
       "      <td>Sub</td>\n",
       "      <td>Manuel Lanzini</td>\n",
       "      <td>a</td>\n",
       "      <td>0</td>\n",
       "      <td>0</td>\n",
       "      <td>0</td>\n",
       "      <td>457322</td>\n",
       "      <td>1</td>\n",
       "      <td>0</td>\n",
       "      <td>0.09359919279813766</td>\n",
       "      <td>0.14507360756397247</td>\n",
       "      <td>0.09359919279813766</td>\n",
       "      <td>17</td>\n",
       "      <td>14711</td>\n",
       "    </tr>\n",
       "    <tr>\n",
       "      <th>457326</th>\n",
       "      <td>457326</td>\n",
       "      <td>0</td>\n",
       "      <td>0</td>\n",
       "      <td>0</td>\n",
       "      <td>0</td>\n",
       "      <td>26</td>\n",
       "      <td>3585</td>\n",
       "      <td>81</td>\n",
       "      <td>Sub</td>\n",
       "      <td>Said Benrahma</td>\n",
       "      <td>a</td>\n",
       "      <td>0</td>\n",
       "      <td>0</td>\n",
       "      <td>0</td>\n",
       "      <td>457323</td>\n",
       "      <td>0</td>\n",
       "      <td>0</td>\n",
       "      <td>0</td>\n",
       "      <td>0.09359919279813766</td>\n",
       "      <td>0.09359919279813766</td>\n",
       "      <td>17</td>\n",
       "      <td>14711</td>\n",
       "    </tr>\n",
       "  </tbody>\n",
       "</table>\n",
       "<p>49799 rows × 22 columns</p>\n",
       "</div>"
      ],
      "text/plain": [
       "            id goals own_goals shots                   xG time player_id  \\\n",
       "125031  125031     0         0     0                    0   90      1697   \n",
       "125032  125032     0         0     0                    0   90      1685   \n",
       "125033  125033     0         0     2  0.05041324719786644   90      1686   \n",
       "125034  125034     0         0     0                    0   90      1689   \n",
       "125035  125035     0         0     0                    0   90      1688   \n",
       "...        ...   ...       ...   ...                  ...  ...       ...   \n",
       "457323  457323     0         0     0                    0   64      6424   \n",
       "457324  457324     0         0     1  0.03431173786520958   90       531   \n",
       "457325  457325     0         0     2  0.09904623031616211   90      1776   \n",
       "457327  457327     0         0     1  0.05147441849112511   26       535   \n",
       "457326  457326     0         0     0                    0   26      3585   \n",
       "\n",
       "       team_id position            player h_a yellow_card red_card roster_in  \\\n",
       "125031      91       GK   Eldin Jakupovic   h           0        0         0   \n",
       "125032      91       DR  Ahmed Elmohamady   h           0        0         0   \n",
       "125033      91       DC     Curtis Davies   h           1        0         0   \n",
       "125034      91       DC    Jake Livermore   h           0        0         0   \n",
       "125035      91       DL  Andrew Robertson   h           0        0         0   \n",
       "...        ...      ...               ...  ..         ...      ...       ...   \n",
       "457323      81       ML       Ben Johnson   a           0        0    457326   \n",
       "457324      81       FW   Michail Antonio   a           0        0         0   \n",
       "457325      81       FW      Jarrod Bowen   a           0        0         0   \n",
       "457327      81      Sub    Manuel Lanzini   a           0        0         0   \n",
       "457326      81      Sub     Said Benrahma   a           0        0         0   \n",
       "\n",
       "       roster_out key_passes assists                    xA  \\\n",
       "125031          0          0       0                     0   \n",
       "125032          0          1       0  0.021670209243893623   \n",
       "125033          0          0       0                     0   \n",
       "125034          0          0       0                     0   \n",
       "125035          0          0       0                     0   \n",
       "...           ...        ...     ...                   ...   \n",
       "457323          0          0       0                     0   \n",
       "457324          0          1       0  0.041240423917770386   \n",
       "457325          0          2       0   0.19072416424751282   \n",
       "457327     457322          1       0   0.09359919279813766   \n",
       "457326     457323          0       0                     0   \n",
       "\n",
       "                     xGChain            xGBuildup positionOrder match_id  \n",
       "125031                     0                    0             1      461  \n",
       "125032  0.061049532145261765  0.03937932476401329             2      461  \n",
       "125033                     0                    0             3      461  \n",
       "125034                     0                    0             3      461  \n",
       "125035   0.06231752410531044  0.06231752410531044             4      461  \n",
       "...                      ...                  ...           ...      ...  \n",
       "457323                     0                    0            10    14711  \n",
       "457324   0.07555215805768967                    0            15    14711  \n",
       "457325    0.2897703945636749                    0            15    14711  \n",
       "457327   0.14507360756397247  0.09359919279813766            17    14711  \n",
       "457326   0.09359919279813766  0.09359919279813766            17    14711  \n",
       "\n",
       "[49799 rows x 22 columns]"
      ]
     },
     "execution_count": 110,
     "metadata": {},
     "output_type": "execute_result"
    }
   ],
   "source": [
    "game_stats"
   ]
  },
  {
   "cell_type": "code",
   "execution_count": 170,
   "metadata": {},
   "outputs": [],
   "source": [
    "fixtures_df['home_team'] = [row.get('title') for row in fixtures_df['h']]"
   ]
  },
  {
   "cell_type": "code",
   "execution_count": 171,
   "metadata": {},
   "outputs": [],
   "source": [
    "fixtures_df['away_team'] = [row.get('title') for row in fixtures_df['a']]"
   ]
  },
  {
   "cell_type": "code",
   "execution_count": 172,
   "metadata": {},
   "outputs": [],
   "source": [
    "fixtures_df['home_xg'] = [row.get('h') for row in fixtures_df['xG']]"
   ]
  },
  {
   "cell_type": "code",
   "execution_count": 173,
   "metadata": {},
   "outputs": [],
   "source": [
    "fixtures_df['away_xg'] = [row.get('a') for row in fixtures_df['xG']]"
   ]
  },
  {
   "cell_type": "code",
   "execution_count": 174,
   "metadata": {},
   "outputs": [],
   "source": [
    "fixtures_df['home_goals'] = [row.get('h') for row in fixtures_df['goals']]"
   ]
  },
  {
   "cell_type": "code",
   "execution_count": 175,
   "metadata": {},
   "outputs": [],
   "source": [
    "fixtures_df['away_goals'] = [row.get('a') for row in fixtures_df['goals']]"
   ]
  },
  {
   "cell_type": "code",
   "execution_count": 176,
   "metadata": {},
   "outputs": [],
   "source": [
    "fixtures_df.id = fixtures_df.id.astype('int')"
   ]
  },
  {
   "cell_type": "code",
   "execution_count": 151,
   "metadata": {},
   "outputs": [],
   "source": [
    "game_stats.match_id = game_stats.match_id.astype('int')"
   ]
  },
  {
   "cell_type": "code",
   "execution_count": 178,
   "metadata": {},
   "outputs": [],
   "source": [
    "fixtures_df = fixtures_df[['id', 'isResult', 'datetime', 'home_team', 'away_team', 'home_xg','away_xg', 'home_goals', 'away_goals']]"
   ]
  },
  {
   "cell_type": "code",
   "execution_count": 179,
   "metadata": {},
   "outputs": [],
   "source": [
    "home_fixtures = fixtures_df.rename(columns = {'home_team': 'team',\n",
    "                             'away_team': 'team_opp',\n",
    "                             'home_xg': 'xg_team',\n",
    "                             'away_xg': 'xg_opp',\n",
    "                             'home_goals': 'team_goals',\n",
    "                             'away_goals': 'goals_opp'})"
   ]
  },
  {
   "cell_type": "code",
   "execution_count": 180,
   "metadata": {},
   "outputs": [],
   "source": [
    "away_fixtures = fixtures_df.rename(columns = {'away_team': 'team',\n",
    "                             'home_team': 'team_opp',\n",
    "                             'away_xg': 'xg_team',\n",
    "                             'home_xg': 'xg_opp',\n",
    "                             'away_goals': 'team_goals',\n",
    "                             'home_goals': 'goals_opp'})"
   ]
  },
  {
   "cell_type": "code",
   "execution_count": 181,
   "metadata": {},
   "outputs": [],
   "source": [
    "fixtures = pd.concat([home_fixtures, away_fixtures]).sort_values('datetime')"
   ]
  },
  {
   "cell_type": "code",
   "execution_count": 185,
   "metadata": {},
   "outputs": [],
   "source": [
    "fixtures = fixtures[fixtures.isResult == True]"
   ]
  },
  {
   "cell_type": "code",
   "execution_count": 195,
   "metadata": {},
   "outputs": [
    {
     "data": {
      "text/plain": [
       "id             int64\n",
       "isResult        bool\n",
       "datetime      object\n",
       "team          object\n",
       "team_opp      object\n",
       "xg_team       object\n",
       "xg_opp        object\n",
       "team_goals    object\n",
       "goals_opp     object\n",
       "dtype: object"
      ]
     },
     "execution_count": 195,
     "metadata": {},
     "output_type": "execute_result"
    }
   ],
   "source": [
    "fixtures.dtypes"
   ]
  },
  {
   "cell_type": "code",
   "execution_count": 200,
   "metadata": {},
   "outputs": [
    {
     "name": "stderr",
     "output_type": "stream",
     "text": [
      "/Users/andrewpeters/anaconda3/lib/python3.8/site-packages/pandas/core/indexing.py:1717: SettingWithCopyWarning: \n",
      "A value is trying to be set on a copy of a slice from a DataFrame.\n",
      "Try using .loc[row_indexer,col_indexer] = value instead\n",
      "\n",
      "See the caveats in the documentation: https://pandas.pydata.org/pandas-docs/stable/user_guide/indexing.html#returning-a-view-versus-a-copy\n",
      "  isetter(loc, v)\n"
     ]
    }
   ],
   "source": [
    "fixtures.loc[:, ['xg_team', 'xg_opp', 'team_goals', 'goals_opp']] = fixtures[['xg_team', 'xg_opp', 'team_goals', 'goals_opp']].apply(pd.to_numeric)"
   ]
  },
  {
   "cell_type": "code",
   "execution_count": 201,
   "metadata": {},
   "outputs": [
    {
     "name": "stderr",
     "output_type": "stream",
     "text": [
      "<ipython-input-201-c1eaa725a80e>:1: SettingWithCopyWarning: \n",
      "A value is trying to be set on a copy of a slice from a DataFrame.\n",
      "Try using .loc[row_indexer,col_indexer] = value instead\n",
      "\n",
      "See the caveats in the documentation: https://pandas.pydata.org/pandas-docs/stable/user_guide/indexing.html#returning-a-view-versus-a-copy\n",
      "  fixtures['xg_diff'] = fixtures['xg_team'] - fixtures['xg_opp']\n"
     ]
    }
   ],
   "source": [
    "fixtures['xg_diff'] = fixtures['xg_team'] - fixtures['xg_opp']"
   ]
  },
  {
   "cell_type": "code",
   "execution_count": 202,
   "metadata": {},
   "outputs": [
    {
     "name": "stderr",
     "output_type": "stream",
     "text": [
      "<ipython-input-202-a671b1478c36>:1: SettingWithCopyWarning: \n",
      "A value is trying to be set on a copy of a slice from a DataFrame.\n",
      "Try using .loc[row_indexer,col_indexer] = value instead\n",
      "\n",
      "See the caveats in the documentation: https://pandas.pydata.org/pandas-docs/stable/user_guide/indexing.html#returning-a-view-versus-a-copy\n",
      "  fixtures['goal_diff'] = fixtures['team_goals'] - fixtures['goals_opp']\n"
     ]
    }
   ],
   "source": [
    "fixtures['goal_diff'] = fixtures['team_goals'] - fixtures['goals_opp']"
   ]
  },
  {
   "cell_type": "code",
   "execution_count": 213,
   "metadata": {},
   "outputs": [],
   "source": [
    "df = game_stats.merge(fixtures[['id', 'datetime']], left_on = 'match_id', right_on = 'id', how = 'left')"
   ]
  },
  {
   "cell_type": "code",
   "execution_count": 214,
   "metadata": {},
   "outputs": [],
   "source": [
    "df.player = df.player.str.replace(' ', '_')"
   ]
  },
  {
   "cell_type": "code",
   "execution_count": 215,
   "metadata": {},
   "outputs": [],
   "source": [
    "df.datetime = pd.to_datetime(df.datetime)"
   ]
  },
  {
   "cell_type": "code",
   "execution_count": 216,
   "metadata": {},
   "outputs": [],
   "source": [
    "df.to_pickle('match_level_player_stats.pkl')"
   ]
  },
  {
   "cell_type": "code",
   "execution_count": 219,
   "metadata": {},
   "outputs": [
    {
     "name": "stderr",
     "output_type": "stream",
     "text": [
      "/Users/andrewpeters/anaconda3/lib/python3.8/site-packages/pandas/core/generic.py:5168: SettingWithCopyWarning: \n",
      "A value is trying to be set on a copy of a slice from a DataFrame.\n",
      "Try using .loc[row_indexer,col_indexer] = value instead\n",
      "\n",
      "See the caveats in the documentation: https://pandas.pydata.org/pandas-docs/stable/user_guide/indexing.html#returning-a-view-versus-a-copy\n",
      "  self[name] = value\n"
     ]
    }
   ],
   "source": [
    "fixtures.datetime = pd.to_datetime(fixtures.datetime)"
   ]
  },
  {
   "cell_type": "code",
   "execution_count": 220,
   "metadata": {},
   "outputs": [],
   "source": [
    "fixtures.to_pickle('fixture_level_stats.pkl')"
   ]
  },
  {
   "cell_type": "code",
   "execution_count": null,
   "metadata": {},
   "outputs": [],
   "source": []
  }
 ],
 "metadata": {
  "kernelspec": {
   "display_name": "Python 3",
   "language": "python",
   "name": "python3"
  },
  "language_info": {
   "codemirror_mode": {
    "name": "ipython",
    "version": 3
   },
   "file_extension": ".py",
   "mimetype": "text/x-python",
   "name": "python",
   "nbconvert_exporter": "python",
   "pygments_lexer": "ipython3",
   "version": "3.8.3"
  }
 },
 "nbformat": 4,
 "nbformat_minor": 4
}
